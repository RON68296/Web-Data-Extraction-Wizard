{
 "cells": [
  {
   "cell_type": "code",
   "execution_count": 6,
   "id": "23b11dc2",
   "metadata": {},
   "outputs": [],
   "source": [
    "import pandas as pd\n",
    "import requests\n",
    "from bs4 import BeautifulSoup\n",
    "import nltk\n",
    "from textblob import TextBlob\n",
    "import syllables"
   ]
  },
  {
   "cell_type": "code",
   "execution_count": 7,
   "id": "f4bde140",
   "metadata": {},
   "outputs": [
    {
     "name": "stderr",
     "output_type": "stream",
     "text": [
      "[nltk_data] Downloading package punkt to\n",
      "[nltk_data]     C:\\Users\\ron68\\AppData\\Roaming\\nltk_data...\n",
      "[nltk_data]   Package punkt is already up-to-date!\n",
      "[nltk_data] Downloading package averaged_perceptron_tagger to\n",
      "[nltk_data]     C:\\Users\\ron68\\AppData\\Roaming\\nltk_data...\n",
      "[nltk_data]   Package averaged_perceptron_tagger is already up-to-\n",
      "[nltk_data]       date!\n"
     ]
    },
    {
     "data": {
      "text/plain": [
       "True"
      ]
     },
     "execution_count": 7,
     "metadata": {},
     "output_type": "execute_result"
    }
   ],
   "source": [
    "nltk.download('punkt')\n",
    "nltk.download('averaged_perceptron_tagger')"
   ]
  },
  {
   "cell_type": "code",
   "execution_count": 11,
   "id": "a2faeeeb",
   "metadata": {},
   "outputs": [],
   "source": [
    "url = \"https://insights.blackcoffer.com/ai-in-healthcare-to-improve-patient-outcomes/\"\n",
    "page = requests.get(url)\n",
    "htmlcontent = page.content\n",
    "soup = BeautifulSoup(htmlcontent, 'html.parser')"
   ]
  },
  {
   "cell_type": "code",
   "execution_count": 12,
   "id": "03afdea7",
   "metadata": {},
   "outputs": [],
   "source": [
    "title = soup.title.text\n",
    "content = soup.find(attrs={'class': 'vc_row tdi_118 td-ss-row wpb_row td-pb-row'})\n",
    "# YOU CAN SEE YOUR WEB-PAGE CLASS BY SIMPLY INSPECTING YOU WEB-PAGE AND ENTER CLASS OF CONTENT ACCORDINGLY \n",
    "content_text = content.text.replace(\"\\n\", \"\")"
   ]
  },
  {
   "cell_type": "code",
   "execution_count": 13,
   "id": "f75bab46",
   "metadata": {},
   "outputs": [],
   "source": [
    "# Perform textual analysis\n",
    "blob = TextBlob(content_text)"
   ]
  },
  {
   "cell_type": "code",
   "execution_count": 14,
   "id": "06a6b211",
   "metadata": {},
   "outputs": [],
   "source": [
    "positive_score = sum([1 for sentence in blob.sentences if sentence.sentiment.polarity > 0])\n",
    "negative_score = sum([1 for sentence in blob.sentences if sentence.sentiment.polarity < 0])\n",
    "polarity_score = blob.sentiment.polarity\n",
    "subjectivity_score = blob.sentiment.subjectivity"
   ]
  },
  {
   "cell_type": "code",
   "execution_count": 15,
   "id": "066a3bc8",
   "metadata": {},
   "outputs": [],
   "source": [
    "sentences = nltk.sent_tokenize(content_text)\n",
    "avg_sentence_length = sum([len(nltk.word_tokenize(sentence)) for sentence in sentences]) / len(sentences)"
   ]
  },
  {
   "cell_type": "code",
   "execution_count": 16,
   "id": "78b1fc5d",
   "metadata": {},
   "outputs": [],
   "source": [
    "word_count = len(blob.words)\n",
    "complex_word_count = sum([1 for word in blob.words if len(word) > 2 and len(nltk.pos_tag([word])[0][1]) >= 2])\n",
    "percentage_complex_words = (complex_word_count / word_count) * 100"
   ]
  },
  {
   "cell_type": "code",
   "execution_count": 17,
   "id": "541a2e72",
   "metadata": {},
   "outputs": [],
   "source": [
    "avg_words_per_sentence = word_count / len(sentences)"
   ]
  },
  {
   "cell_type": "code",
   "execution_count": 18,
   "id": "be1706de",
   "metadata": {
    "scrolled": true
   },
   "outputs": [],
   "source": [
    "syllable_count = sum([syllables.estimate(word) for word in blob.words])  # Count syllables using syllables.estimate()\n",
    "syllables_per_word = syllable_count / word_count"
   ]
  },
  {
   "cell_type": "code",
   "execution_count": 19,
   "id": "22189e9f",
   "metadata": {},
   "outputs": [],
   "source": [
    "personal_pronouns = sum([1 for word, tag in nltk.pos_tag(blob.words) if tag == 'PRP'])"
   ]
  },
  {
   "cell_type": "code",
   "execution_count": 20,
   "id": "bc7294d5",
   "metadata": {},
   "outputs": [],
   "source": [
    "avg_word_length = sum([len(word) for word in blob.words]) / word_count"
   ]
  },
  {
   "cell_type": "code",
   "execution_count": 21,
   "id": "7ff53516",
   "metadata": {},
   "outputs": [],
   "source": [
    "# Calculate FOG Index\n",
    "complex_words = [word for word in blob.words if len(word) > 2 and len(nltk.pos_tag([word])[0][1]) >= 2]\n",
    "fog_index = 0.4 * (avg_words_per_sentence + percentage_complex_words)"
   ]
  },
  {
   "cell_type": "code",
   "execution_count": 24,
   "id": "65554892",
   "metadata": {},
   "outputs": [
    {
     "name": "stdout",
     "output_type": "stream",
     "text": [
      "Enter the file name to save analysis results: rough\n",
      "Textual analysis completed. Results saved to file rough\n"
     ]
    }
   ],
   "source": [
    "# Save analysis results to a text file\n",
    "file_name = input(\"Enter the file name to save analysis results: \")\n",
    "\n",
    "with open(file_name, \"w\", encoding=\"utf-8\") as file:\n",
    "    file.write(f\"Title: {title}\\n\\n\")\n",
    "    file.write(f\"Content: {content_text}\\n\\n\")\n",
    "    file.write(f\"Positive Score: {positive_score}\\n\")\n",
    "    file.write(f\"Negative Score: {negative_score}\\n\")\n",
    "    file.write(f\"Polarity Score: {polarity_score}\\n\")\n",
    "    file.write(f\"Subjectivity Score: {subjectivity_score}\\n\")\n",
    "    file.write(f\"Avg Sentence Length: {avg_sentence_length}\\n\")\n",
    "    file.write(f\"Percentage of Complex Words: {percentage_complex_words}\\n\")\n",
    "    file.write(f\"Avg Number of Words per Sentence: {avg_words_per_sentence}\\n\")\n",
    "    file.write(f\"Complex Word Count: {complex_word_count}\\n\")\n",
    "    file.write(f\"FOG Index: {fog_index}\\n\")\n",
    "    file.write(f\"Word Count: {word_count}\\n\")\n",
    "    file.write(f\"Syllables per Word: {syllables_per_word}\\n\")\n",
    "    file.write(f\"Personal Pronouns: {personal_pronouns}\\n\")\n",
    "    file.write(f\"Avg Word Length: {avg_word_length}\\n\")\n",
    "\n",
    "print(\"Textual analysis completed. Results saved to file\",file_name)"
   ]
  },
  {
   "cell_type": "code",
   "execution_count": null,
   "id": "ccad5d25",
   "metadata": {},
   "outputs": [],
   "source": []
  },
  {
   "cell_type": "code",
   "execution_count": null,
   "id": "f2606d83",
   "metadata": {},
   "outputs": [],
   "source": []
  }
 ],
 "metadata": {
  "kernelspec": {
   "display_name": "Python 3 (ipykernel)",
   "language": "python",
   "name": "python3"
  },
  "language_info": {
   "codemirror_mode": {
    "name": "ipython",
    "version": 3
   },
   "file_extension": ".py",
   "mimetype": "text/x-python",
   "name": "python",
   "nbconvert_exporter": "python",
   "pygments_lexer": "ipython3",
   "version": "3.10.1"
  }
 },
 "nbformat": 4,
 "nbformat_minor": 5
}
